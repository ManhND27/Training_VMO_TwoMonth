{
 "metadata": {
  "language_info": {
   "codemirror_mode": {
    "name": "ipython",
    "version": 3
   },
   "file_extension": ".py",
   "mimetype": "text/x-python",
   "name": "python",
   "nbconvert_exporter": "python",
   "pygments_lexer": "ipython3",
   "version": "3.9.5"
  },
  "orig_nbformat": 4,
  "kernelspec": {
   "name": "python3",
   "display_name": "Python 3.9.5 64-bit"
  },
  "interpreter": {
   "hash": "c2a992d86943bdbb1a93721aa8faf11a2d48a4b1fd05bac4b69f4b63e0ef12fd"
  }
 },
 "nbformat": 4,
 "nbformat_minor": 2,
 "cells": [
  {
   "cell_type": "code",
   "execution_count": 1,
   "metadata": {},
   "outputs": [],
   "source": [
    "from __future__ import division, print_function, unicode_literals\n",
    "import numpy as np \n",
    "import matplotlib\n",
    "import matplotlib.pyplot as plt\n",
    "# import matplotlib.cm as cm\n",
    "# import matplotlib.mlab as mlab"
   ]
  },
  {
   "cell_type": "code",
   "execution_count": 2,
   "metadata": {},
   "outputs": [],
   "source": [
    "np.random.seed(2)\n",
    "\n",
    "X = np.random.rand(1000, 1)\n",
    "y = 4 + 3 * X + .2*np.random.randn(1000, 1)\n",
    "\n",
    "# Building Xbar \n",
    "one = np.ones((X.shape[0],1))\n",
    "Xbar = np.concatenate((one, X), axis = 1)\n",
    "\n",
    "A = np.dot(Xbar.T, Xbar)\n",
    "b = np.dot(Xbar.T, y)\n",
    "w_exact = np.dot(np.linalg.pinv(A), b)"
   ]
  },
  {
   "cell_type": "code",
   "execution_count": 3,
   "metadata": {},
   "outputs": [],
   "source": [
    "\n",
    "def cost(w):\n",
    "\treturn .5/Xbar.shape[0]*np.linalg.norm(y - Xbar.dot(w), 2)**2;\n",
    "\n",
    "def grad(w):\n",
    "\treturn 1/Xbar.shape[0] * Xbar.T.dot(Xbar.dot(w) - y)\n"
   ]
  },
  {
   "cell_type": "code",
   "execution_count": 6,
   "metadata": {},
   "outputs": [],
   "source": [
    "# single point gradient\n",
    "def sgrad(w, i, rd_id):\n",
    "    true_i = rd_id[i]\n",
    "    xi = Xbar[true_i, :]\n",
    "    yi = y[true_i]\n",
    "    a = np.dot(xi, w) - yi\n",
    "    return (xi*a).reshape(2, 1)\n",
    "\n",
    "def SGD(w_init, grad, eta):\n",
    "    w = [w_init]\n",
    "    w_last_check = w_init\n",
    "    iter_check_w = 10\n",
    "    N = X.shape[0]\n",
    "    count = 0\n",
    "    for it in range(10):\n",
    "        # shuffle data \n",
    "        rd_id = np.random.permutation(N)\n",
    "        for i in range(N):\n",
    "            count += 1 \n",
    "            g = sgrad(w[-1], i, rd_id)\n",
    "            w_new = w[-1] - eta*g\n",
    "            w.append(w_new)\n",
    "            if count%iter_check_w == 0:\n",
    "                w_this_check = w_new                 \n",
    "                if np.linalg.norm(w_this_check - w_last_check)/len(w_init) < 1e-3:                                    \n",
    "                    return w\n",
    "                w_last_check = w_this_check\n",
    "    return w\n"
   ]
  },
  {
   "cell_type": "code",
   "execution_count": 7,
   "metadata": {},
   "outputs": [
    {
     "output_type": "stream",
     "name": "stdout",
     "text": [
      "341 [[4.06708447]\n [2.94222754]]\n"
     ]
    }
   ],
   "source": [
    "w_init = np.array([[2], [1]])\n",
    "w = SGD(w_init, grad, .1)\n",
    "\n",
    "print(len(w), w[-1])"
   ]
  },
  {
   "cell_type": "code",
   "execution_count": null,
   "metadata": {},
   "outputs": [],
   "source": []
  }
 ]
}