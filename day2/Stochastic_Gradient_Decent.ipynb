{
 "metadata": {
  "language_info": {
   "codemirror_mode": {
    "name": "ipython",
    "version": 3
   },
   "file_extension": ".py",
   "mimetype": "text/x-python",
   "name": "python",
   "nbconvert_exporter": "python",
   "pygments_lexer": "ipython3",
   "version": "3.9.5"
  },
  "orig_nbformat": 4,
  "kernelspec": {
   "name": "python3",
   "display_name": "Python 3.9.5 64-bit"
  },
  "interpreter": {
   "hash": "c2a992d86943bdbb1a93721aa8faf11a2d48a4b1fd05bac4b69f4b63e0ef12fd"
  }
 },
 "nbformat": 4,
 "nbformat_minor": 2,
 "cells": [
  {
   "cell_type": "code",
   "execution_count": 1,
   "metadata": {},
   "outputs": [],
   "source": [
    "import numpy as np \n",
    "import matplotlib.pyplot as plt "
   ]
  },
  {
   "cell_type": "code",
   "execution_count": 2,
   "metadata": {},
   "outputs": [],
   "source": [
    "import numpy as np\n",
    "\n",
    "def sgd(\n",
    "    gradient, x, y, start, learn_rate=0.1, batch_size=1, epoch=50, tolerance=1e-06, dtype=\"float64\", random_state=None\n",
    "):  \n",
    "    #checking gradient\n",
    "    if not callable(gradient):\n",
    "        raise TypeError(\"'gradient' must be callable\")\n",
    "\n",
    "    #create dtype\n",
    "    dtype_ = np.dtype(dtype)\n",
    "\n",
    "    #checking x, y\n",
    "    x, y = np.array(x, dtype=dtype_), np.array(y, dtype=dtype_)\n",
    "    if x.shape[0] != y.shape[0]:\n",
    "        raise ValueError(\"'x' and 'y' lengths do not match\")\n",
    "\n",
    "    #checking start\n",
    "    vector = np.array(start, dtype=dtype_)\n",
    "    \n",
    "    #Checking and create seed\n",
    "    seed = None if random_state is None else int(random_state)\n",
    "    np.random.seed(seed=seed)\n",
    "\n",
    "    #checking learn rate\n",
    "    learn_rate = np.array(learn_rate, dtype=dtype_)\n",
    "    if np.any(learn_rate <= 0):\n",
    "        raise ValueError(\"'learn_rate' must be greater than zero\")\n",
    "\n",
    "    # checking batch size\n",
    "    batch_size = int(batch_size)\n",
    "    if not 0 < batch_size <= x.shape[0]:\n",
    "        raise ValueError(\n",
    "            \"'batch_size' must be greater than zero and less than \"\n",
    "            \"or equal to the number of observations\"\n",
    "        )\n",
    "\n",
    "    #checking epoch\n",
    "    epoch = int(epoch)\n",
    "    if epoch <= 0:\n",
    "        raise ValueError(\"'n_iter' must be greater than zero\")\n",
    "\n",
    "    # Checking tolerance\n",
    "    tolerance = np.array(tolerance, dtype=dtype_)\n",
    "    if np.any(tolerance <= 0):\n",
    "        raise ValueError(\"'tolerance' must be greater than zero\")\n",
    "\n",
    "\n",
    "    z = np.c_[x.reshape(len(x), -1), y.reshape(len(y), 1)]\n",
    "    iterations = int(x.shape[0] / int(batch_size))\n",
    "    for _ in range(epoch):\n",
    "        np.random.shuffle(z)\n",
    "        x_2, y_2 = z[0:len(x), :-1], z[0:len(y), -1:]\n",
    "        \n",
    "        start = 0\n",
    "        stop = batch_size\n",
    "        for _ in range(iterations):\n",
    "            x_batch = x[start: stop]\n",
    "            y_batch = y[start: stop]\n",
    "            diff = -learn_rate * np.array(gradient(x_batch, y_batch, vector))\n",
    "            start += batch_size\n",
    "            stop += batch_size\n",
    "\n",
    "        if np.all(np.abs(diff) <= tolerance):\n",
    "            break\n",
    "        vector += diff\n",
    "    return vector"
   ]
  },
  {
   "cell_type": "code",
   "execution_count": 3,
   "metadata": {},
   "outputs": [
    {
     "output_type": "stream",
     "name": "stdout",
     "text": [
      "[15.86381888  0.32802982]\n"
     ]
    }
   ],
   "source": [
    "\n",
    "def ssr_gradient(x, y, b):\n",
    "    res = b[0] + b[1] * x - y\n",
    "    return res.mean(), (res * x).mean()\n",
    "\n",
    "x = np.array([5, 15, 25, 35, 45, 55])\n",
    "y = np.array([5, 20, 14, 32, 22, 38])\n",
    "print(sgd(ssr_gradient, x, y, start=[0.5, 0.5], learn_rate=0.0008, epoch=100_000, batch_size=3))"
   ]
  },
  {
   "cell_type": "code",
   "execution_count": null,
   "metadata": {},
   "outputs": [],
   "source": []
  }
 ]
}