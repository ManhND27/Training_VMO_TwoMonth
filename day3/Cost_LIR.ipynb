{
 "metadata": {
  "language_info": {
   "codemirror_mode": {
    "name": "ipython",
    "version": 3
   },
   "file_extension": ".py",
   "mimetype": "text/x-python",
   "name": "python",
   "nbconvert_exporter": "python",
   "pygments_lexer": "ipython3",
   "version": "3.9.5"
  },
  "orig_nbformat": 4,
  "kernelspec": {
   "name": "python3",
   "display_name": "Python 3.9.5 64-bit"
  },
  "interpreter": {
   "hash": "c2a992d86943bdbb1a93721aa8faf11a2d48a4b1fd05bac4b69f4b63e0ef12fd"
  }
 },
 "nbformat": 4,
 "nbformat_minor": 2,
 "cells": [
  {
   "cell_type": "code",
   "execution_count": 1,
   "metadata": {},
   "outputs": [],
   "source": [
    "import numpy as np \n",
    "from function import*"
   ]
  },
  {
   "cell_type": "code",
   "execution_count": 2,
   "metadata": {},
   "outputs": [
    {
     "output_type": "stream",
     "name": "stdout",
     "text": [
      "64068714114.436165 64068714114.43616\n"
     ]
    }
   ],
   "source": [
    "\n",
    "raw = np.loadtxt(\"dataLR.txt\", delimiter = ',')\n",
    "np.size(raw,1)\n",
    "\n",
    "y = raw[:, 2]\n",
    "X = np.zeros((np.size(y), np.size(raw,1)))\n",
    "X[:, 0] = 1\n",
    "X[:, 1:] = raw[:,0:2]\n",
    "theta = np.array([1,2,3])\n",
    "\n",
    "print(computerCost(X, y, theta), computerCost_Vec(X, y, theta))"
   ]
  },
  {
   "cell_type": "code",
   "execution_count": null,
   "metadata": {},
   "outputs": [],
   "source": []
  }
 ]
}